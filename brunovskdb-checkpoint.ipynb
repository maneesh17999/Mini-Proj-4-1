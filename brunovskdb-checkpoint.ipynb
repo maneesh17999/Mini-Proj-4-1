{
 "cells": [
  {
   "cell_type": "code",
   "execution_count": 1,
   "metadata": {},
   "outputs": [],
   "source": [
    "import numpy as np # linear algebra\n",
    "import pandas as pd # data processing, CSV file I/O (e.g. pd.read_csv)\n",
    "\n",
    "# Input data files are available in the read-only \"../input/\" directory\n",
    "# For example, running this (by clicking run or pressing Shift+Enter) will list all files under the input directory\n",
    "\n",
    "import os\n",
    "for dirname, _, filenames in os.walk('/kaggle/input'):\n",
    "    for filename in filenames:\n",
    "        print(os.path.join(dirname, filename))"
   ]
  },
  {
   "cell_type": "code",
   "execution_count": 2,
   "metadata": {},
   "outputs": [],
   "source": [
    "import seaborn as sns\n",
    "import matplotlib.pyplot as plt"
   ]
  },
  {
   "cell_type": "code",
   "execution_count": 4,
   "metadata": {},
   "outputs": [
    {
     "data": {
      "text/html": [
       "<div>\n",
       "<style scoped>\n",
       "    .dataframe tbody tr th:only-of-type {\n",
       "        vertical-align: middle;\n",
       "    }\n",
       "\n",
       "    .dataframe tbody tr th {\n",
       "        vertical-align: top;\n",
       "    }\n",
       "\n",
       "    .dataframe thead th {\n",
       "        text-align: right;\n",
       "    }\n",
       "</style>\n",
       "<table border=\"1\" class=\"dataframe\">\n",
       "  <thead>\n",
       "    <tr style=\"text-align: right;\">\n",
       "      <th></th>\n",
       "      <th>Unnamed: 0</th>\n",
       "      <th>assists</th>\n",
       "      <th>bonus</th>\n",
       "      <th>bps</th>\n",
       "      <th>clean_sheets</th>\n",
       "      <th>creativity</th>\n",
       "      <th>element</th>\n",
       "      <th>fixture</th>\n",
       "      <th>goals_conceded</th>\n",
       "      <th>goals_scored</th>\n",
       "      <th>...</th>\n",
       "      <th>total_points</th>\n",
       "      <th>transfers_balance</th>\n",
       "      <th>transfers_in</th>\n",
       "      <th>transfers_out</th>\n",
       "      <th>value</th>\n",
       "      <th>was_home</th>\n",
       "      <th>yellow_cards</th>\n",
       "      <th>full</th>\n",
       "      <th>team</th>\n",
       "      <th>ppm</th>\n",
       "    </tr>\n",
       "  </thead>\n",
       "  <tbody>\n",
       "    <tr>\n",
       "      <th>0</th>\n",
       "      <td>1</td>\n",
       "      <td>0</td>\n",
       "      <td>0</td>\n",
       "      <td>1</td>\n",
       "      <td>0</td>\n",
       "      <td>0.1</td>\n",
       "      <td>534</td>\n",
       "      <td>37</td>\n",
       "      <td>1</td>\n",
       "      <td>0</td>\n",
       "      <td>...</td>\n",
       "      <td>1</td>\n",
       "      <td>0</td>\n",
       "      <td>0</td>\n",
       "      <td>0</td>\n",
       "      <td>4.5</td>\n",
       "      <td>False</td>\n",
       "      <td>0</td>\n",
       "      <td>Aaron Connolly</td>\n",
       "      <td>Brighton</td>\n",
       "      <td>0.222222</td>\n",
       "    </tr>\n",
       "    <tr>\n",
       "      <th>1</th>\n",
       "      <td>2</td>\n",
       "      <td>0</td>\n",
       "      <td>0</td>\n",
       "      <td>1</td>\n",
       "      <td>0</td>\n",
       "      <td>0.3</td>\n",
       "      <td>534</td>\n",
       "      <td>43</td>\n",
       "      <td>1</td>\n",
       "      <td>0</td>\n",
       "      <td>...</td>\n",
       "      <td>1</td>\n",
       "      <td>10589</td>\n",
       "      <td>13500</td>\n",
       "      <td>2911</td>\n",
       "      <td>4.5</td>\n",
       "      <td>True</td>\n",
       "      <td>0</td>\n",
       "      <td>Aaron Connolly</td>\n",
       "      <td>Brighton</td>\n",
       "      <td>0.222222</td>\n",
       "    </tr>\n",
       "    <tr>\n",
       "      <th>2</th>\n",
       "      <td>3</td>\n",
       "      <td>0</td>\n",
       "      <td>0</td>\n",
       "      <td>1</td>\n",
       "      <td>0</td>\n",
       "      <td>4.8</td>\n",
       "      <td>534</td>\n",
       "      <td>58</td>\n",
       "      <td>0</td>\n",
       "      <td>0</td>\n",
       "      <td>...</td>\n",
       "      <td>1</td>\n",
       "      <td>8090</td>\n",
       "      <td>11749</td>\n",
       "      <td>3659</td>\n",
       "      <td>4.5</td>\n",
       "      <td>False</td>\n",
       "      <td>0</td>\n",
       "      <td>Aaron Connolly</td>\n",
       "      <td>Brighton</td>\n",
       "      <td>0.222222</td>\n",
       "    </tr>\n",
       "    <tr>\n",
       "      <th>3</th>\n",
       "      <td>4</td>\n",
       "      <td>0</td>\n",
       "      <td>0</td>\n",
       "      <td>2</td>\n",
       "      <td>0</td>\n",
       "      <td>0.6</td>\n",
       "      <td>534</td>\n",
       "      <td>63</td>\n",
       "      <td>1</td>\n",
       "      <td>0</td>\n",
       "      <td>...</td>\n",
       "      <td>1</td>\n",
       "      <td>8437</td>\n",
       "      <td>13439</td>\n",
       "      <td>5002</td>\n",
       "      <td>4.5</td>\n",
       "      <td>False</td>\n",
       "      <td>0</td>\n",
       "      <td>Aaron Connolly</td>\n",
       "      <td>Brighton</td>\n",
       "      <td>0.222222</td>\n",
       "    </tr>\n",
       "    <tr>\n",
       "      <th>4</th>\n",
       "      <td>5</td>\n",
       "      <td>0</td>\n",
       "      <td>3</td>\n",
       "      <td>53</td>\n",
       "      <td>1</td>\n",
       "      <td>23.8</td>\n",
       "      <td>534</td>\n",
       "      <td>72</td>\n",
       "      <td>0</td>\n",
       "      <td>2</td>\n",
       "      <td>...</td>\n",
       "      <td>13</td>\n",
       "      <td>2156</td>\n",
       "      <td>5952</td>\n",
       "      <td>3796</td>\n",
       "      <td>4.5</td>\n",
       "      <td>True</td>\n",
       "      <td>0</td>\n",
       "      <td>Aaron Connolly</td>\n",
       "      <td>Brighton</td>\n",
       "      <td>2.888889</td>\n",
       "    </tr>\n",
       "  </tbody>\n",
       "</table>\n",
       "<p>5 rows × 35 columns</p>\n",
       "</div>"
      ],
      "text/plain": [
       "   Unnamed: 0  assists  bonus  bps  clean_sheets  creativity  element  \\\n",
       "0           1        0      0    1             0         0.1      534   \n",
       "1           2        0      0    1             0         0.3      534   \n",
       "2           3        0      0    1             0         4.8      534   \n",
       "3           4        0      0    2             0         0.6      534   \n",
       "4           5        0      3   53             1        23.8      534   \n",
       "\n",
       "   fixture  goals_conceded  goals_scored  ...  total_points  \\\n",
       "0       37               1             0  ...             1   \n",
       "1       43               1             0  ...             1   \n",
       "2       58               0             0  ...             1   \n",
       "3       63               1             0  ...             1   \n",
       "4       72               0             2  ...            13   \n",
       "\n",
       "   transfers_balance transfers_in  transfers_out value  was_home  \\\n",
       "0                  0            0              0   4.5     False   \n",
       "1              10589        13500           2911   4.5      True   \n",
       "2               8090        11749           3659   4.5     False   \n",
       "3               8437        13439           5002   4.5     False   \n",
       "4               2156         5952           3796   4.5      True   \n",
       "\n",
       "   yellow_cards            full      team       ppm  \n",
       "0             0  Aaron Connolly  Brighton  0.222222  \n",
       "1             0  Aaron Connolly  Brighton  0.222222  \n",
       "2             0  Aaron Connolly  Brighton  0.222222  \n",
       "3             0  Aaron Connolly  Brighton  0.222222  \n",
       "4             0  Aaron Connolly  Brighton  2.888889  \n",
       "\n",
       "[5 rows x 35 columns]"
      ]
     },
     "execution_count": 4,
     "metadata": {},
     "output_type": "execute_result"
    }
   ],
   "source": [
    "players=pd.read_csv('players_1920_fin.csv')\n",
    "players.head()"
   ]
  },
  {
   "cell_type": "code",
   "execution_count": 5,
   "metadata": {},
   "outputs": [
    {
     "name": "stdout",
     "output_type": "stream",
     "text": [
      "<class 'pandas.core.frame.DataFrame'>\n",
      "RangeIndex: 22502 entries, 0 to 22501\n",
      "Data columns (total 35 columns):\n",
      " #   Column             Non-Null Count  Dtype  \n",
      "---  ------             --------------  -----  \n",
      " 0   Unnamed: 0         22502 non-null  int64  \n",
      " 1   assists            22502 non-null  int64  \n",
      " 2   bonus              22502 non-null  int64  \n",
      " 3   bps                22502 non-null  int64  \n",
      " 4   clean_sheets       22502 non-null  int64  \n",
      " 5   creativity         22502 non-null  float64\n",
      " 6   element            22502 non-null  int64  \n",
      " 7   fixture            22502 non-null  int64  \n",
      " 8   goals_conceded     22502 non-null  int64  \n",
      " 9   goals_scored       22502 non-null  int64  \n",
      " 10  ict_index          22502 non-null  float64\n",
      " 11  influence          22502 non-null  float64\n",
      " 12  kickoff_time       22502 non-null  object \n",
      " 13  minutes            22502 non-null  int64  \n",
      " 14  opponent_team      22502 non-null  object \n",
      " 15  own_goals          22502 non-null  int64  \n",
      " 16  penalties_missed   22502 non-null  int64  \n",
      " 17  penalties_saved    22502 non-null  int64  \n",
      " 18  red_cards          22502 non-null  int64  \n",
      " 19  round              22502 non-null  int64  \n",
      " 20  saves              22502 non-null  int64  \n",
      " 21  selected           22502 non-null  int64  \n",
      " 22  team_a_score       22502 non-null  int64  \n",
      " 23  team_h_score       22502 non-null  int64  \n",
      " 24  threat             22502 non-null  int64  \n",
      " 25  total_points       22502 non-null  int64  \n",
      " 26  transfers_balance  22502 non-null  int64  \n",
      " 27  transfers_in       22502 non-null  int64  \n",
      " 28  transfers_out      22502 non-null  int64  \n",
      " 29  value              22502 non-null  float64\n",
      " 30  was_home           22502 non-null  bool   \n",
      " 31  yellow_cards       22502 non-null  int64  \n",
      " 32  full               22502 non-null  object \n",
      " 33  team               22502 non-null  object \n",
      " 34  ppm                22502 non-null  float64\n",
      "dtypes: bool(1), float64(5), int64(25), object(4)\n",
      "memory usage: 5.9+ MB\n"
     ]
    }
   ],
   "source": [
    "players.info()"
   ]
  },
  {
   "cell_type": "code",
   "execution_count": 6,
   "metadata": {},
   "outputs": [],
   "source": [
    "debru=players[players['full']=='Kevin De Bruyne']\n",
    "bruno=players[players['full']=='Bruno Miguel Borges Fernandes']"
   ]
  },
  {
   "cell_type": "code",
   "execution_count": 7,
   "metadata": {},
   "outputs": [
    {
     "data": {
      "text/plain": [
       "Text(0.5, 1.0, 'BRUNO FERNANDES')"
      ]
     },
     "execution_count": 7,
     "metadata": {},
     "output_type": "execute_result"
    },
    {
     "data": {
      "image/png": "[encoded data removed]",
      "text/plain": [
       "<Figure size 432x288 with 2 Axes>"
      ]
     },
     "metadata": {
      "needs_background": "light"
     },
     "output_type": "display_data"
    }
   ],
   "source": [
    "plt.subplot(1,2,1)\n",
    "sns.countplot(x='assists',data=debru).set_title('DE BRUYNE')\n",
    "plt.subplot(1,2,2)\n",
    "sns.countplot(x='assists',data=bruno).set_title('BRUNO FERNANDES')"
   ]
  },
  {
   "cell_type": "code",
   "execution_count": 8,
   "metadata": {},
   "outputs": [
    {
     "data": {
      "text/plain": [
       "Text(0.5, 1.0, 'BRUNO FERNANDES')"
      ]
     },
     "execution_count": 8,
     "metadata": {},
     "output_type": "execute_result"
    },
    {
     "data": {
      "image/png": "[encoded data removed]",
      "text/plain": [
       "<Figure size 432x288 with 2 Axes>"
      ]
     },
     "metadata": {
      "needs_background": "light"
     },
     "output_type": "display_data"
    }
   ],
   "source": [
    "plt.subplot(1,2,1)\n",
    "sns.boxplot(debru['assists'].value_counts()/38).set_title('DE BRUYNE')\n",
    "plt.subplot(1,2,2)\n",
    "sns.boxplot(bruno['assists'].value_counts()/14).set_title('BRUNO FERNANDES')"
   ]
  },
  {
   "cell_type": "code",
   "execution_count": 9,
   "metadata": {},
   "outputs": [
    {
     "data": {
      "text/plain": [
       "Text(0.5, 1.0, 'BRUNO FERNANDES')"
      ]
     },
     "execution_count": 9,
     "metadata": {},
     "output_type": "execute_result"
    },
    {
     "data": {
      "image/png": "[encoded data removed]",
      "text/plain": [
       "<Figure size 432x288 with 2 Axes>"
      ]
     },
     "metadata": {
      "needs_background": "light"
     },
     "output_type": "display_data"
    }
   ],
   "source": [
    "plt.subplot(1,2,1)\n",
    "sns.countplot(x='bonus',data=debru).set_title('DE BRUYNE') # More on color options later\n",
    "plt.subplot(1,2,2)\n",
    "sns.countplot(x='bonus',data=bruno).set_title('BRUNO FERNANDES')"
   ]
  },
  {
   "cell_type": "code",
   "execution_count": 10,
   "metadata": {},
   "outputs": [
    {
     "data": {
      "text/plain": [
       "<matplotlib.axes._subplots.AxesSubplot at 0x1980cf3a250>"
      ]
     },
     "execution_count": 10,
     "metadata": {},
     "output_type": "execute_result"
    },
    {
     "data": {
      "image/png": "[encoded data removed]",
      "text/plain": [
       "<Figure size 432x288 with 1 Axes>"
      ]
     },
     "metadata": {
      "needs_background": "light"
     },
     "output_type": "display_data"
    }
   ],
   "source": [
    "sns.boxplot(debru['bonus'].value_counts()/38)"
   ]
  },
  {
   "cell_type": "code",
   "execution_count": 11,
   "metadata": {},
   "outputs": [
    {
     "data": {
      "text/plain": [
       "<matplotlib.axes._subplots.AxesSubplot at 0x1980cda5e80>"
      ]
     },
     "execution_count": 11,
     "metadata": {},
     "output_type": "execute_result"
    },
    {
     "data": {
      "image/png": "[encoded data removed]",
      "text/plain": [
       "<Figure size 432x288 with 1 Axes>"
      ]
     },
     "metadata": {
      "needs_background": "light"
     },
     "output_type": "display_data"
    }
   ],
   "source": [
    "sns.boxplot(bruno['bonus'].value_counts()/14)"
   ]
  },
  {
   "cell_type": "code",
   "execution_count": 12,
   "metadata": {},
   "outputs": [
    {
     "data": {
      "text/plain": [
       "<seaborn.axisgrid.FacetGrid at 0x1980cfe44c0>"
      ]
     },
     "execution_count": 12,
     "metadata": {},
     "output_type": "execute_result"
    },
    {
     "data": {
      "image/png": "[encoded data removed]",
      "text/plain": [
       "<Figure size 432x216 with 2 Axes>"
      ]
     },
     "metadata": {
      "needs_background": "light"
     },
     "output_type": "display_data"
    }
   ],
   "source": [
    "g = sns.FacetGrid(data=debru,col='was_home')\n",
    "g.map(plt.hist,'minutes')"
   ]
  },
  {
   "cell_type": "code",
   "execution_count": 14,
   "metadata": {},
   "outputs": [
    {
     "data": {
      "text/plain": [
       "<seaborn.axisgrid.FacetGrid at 0x1980d0ccc70>"
      ]
     },
     "execution_count": 14,
     "metadata": {},
     "output_type": "execute_result"
    },
    {
     "data": {
      "image/png": "[encoded data removed]",
      "text/plain": [
       "<Figure size 432x216 with 2 Axes>"
      ]
     },
     "metadata": {
      "needs_background": "light"
     },
     "output_type": "display_data"
    }
   ],
   "source": [
    "g = sns.FacetGrid(data=bruno,col='was_home')\n",
    "g.map(plt.hist,'minutes')"
   ]
  },
  {
   "cell_type": "code",
   "execution_count": 15,
   "metadata": {},
   "outputs": [
    {
     "data": {
      "text/plain": [
       "Text(0.5, 1.0, 'BRUNO FERNANDES')"
      ]
     },
     "execution_count": 15,
     "metadata": {},
     "output_type": "execute_result"
    },
    {
     "data": {
      "image/png": "[encoded data removed]",
      "text/plain": [
       "<Figure size 432x288 with 2 Axes>"
      ]
     },
     "metadata": {
      "needs_background": "light"
     },
     "output_type": "display_data"
    }
   ],
   "source": [
    "plt.subplot(1,2,1)\n",
    "sns.countplot(x='assists',data=debru,hue='was_home').set_title('DE BRUYNE') # More on color options later\n",
    "plt.subplot(1,2,2)\n",
    "sns.countplot(x='assists',data=bruno,hue='was_home').set_title('BRUNO FERNANDES')"
   ]
  },
  {
   "cell_type": "code",
   "execution_count": 16,
   "metadata": {},
   "outputs": [
    {
     "data": {
      "text/plain": [
       "Text(0.5, 1.0, 'BRUNO FERNANDES')"
      ]
     },
     "execution_count": 16,
     "metadata": {},
     "output_type": "execute_result"
    },
    {
     "data": {
      "image/png": "[encoded data removed]",
      "text/plain": [
       "<Figure size 432x288 with 2 Axes>"
      ]
     },
     "metadata": {
      "needs_background": "light"
     },
     "output_type": "display_data"
    }
   ],
   "source": [
    "plt.subplot(1,2,1)\n",
    "sns.countplot(x='goals_scored',data=debru,hue='was_home').set_title('DE BRUYNE')\n",
    "plt.subplot(1,2,2)\n",
    "sns.countplot(x='goals_scored',data=bruno,hue='was_home').set_title('BRUNO FERNANDES')\n"
   ]
  },
  {
   "cell_type": "code",
   "execution_count": 17,
   "metadata": {},
   "outputs": [
    {
     "data": {
      "text/plain": [
       "Text(0.5, 1.0, 'BRUNO FERNANDES')"
      ]
     },
     "execution_count": 17,
     "metadata": {},
     "output_type": "execute_result"
    },
    {
     "data": {
      "image/png": "[encoded data removed]",
      "text/plain": [
       "<Figure size 432x288 with 2 Axes>"
      ]
     },
     "metadata": {
      "needs_background": "light"
     },
     "output_type": "display_data"
    }
   ],
   "source": [
    "plt.subplot(1,2,1)\n",
    "sns.boxplot(debru['goals_scored'].value_counts()/38).set_title('DE BRUYNE')\n",
    "plt.subplot(1,2,2)\n",
    "sns.boxplot(bruno['goals_scored'].value_counts()/14).set_title('BRUNO FERNANDES')"
   ]
  }
 ],
 "metadata": {
  "kernelspec": {
   "display_name": "Python 3",
   "language": "python",
   "name": "python3"
  },
  "language_info": {
   "codemirror_mode": {
    "name": "ipython",
    "version": 3
   },
   "file_extension": ".py",
   "mimetype": "text/x-python",
   "name": "python",
   "nbconvert_exporter": "python",
   "pygments_lexer": "ipython3",
   "version": "3.8.3"
  }
 },
 "nbformat": 4,
 "nbformat_minor": 4
}
